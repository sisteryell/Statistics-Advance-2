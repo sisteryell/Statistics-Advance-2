{
  "cells": [
    {
      "cell_type": "markdown",
      "source": [
        "#Statistics Part 2"
      ],
      "metadata": {
        "id": "y4rPNiz_R_w4"
      },
      "id": "y4rPNiz_R_w4"
    },
    {
      "cell_type": "markdown",
      "metadata": {
        "id": "zz2ot4qMOd7c"
      },
      "source": [
        "### 1. What is hypothesis testing in statistics?\n",
        "\n",
        "Hypothesis testing is a method in statistics used to make inferences about populations based on sample data. It involves making an assumption (null hypothesis) and testing whether the data provide enough evidence to reject it in favor of an alternative hypothesis. It helps quantify uncertainty and guide decision-making."
      ],
      "id": "zz2ot4qMOd7c"
    },
    {
      "cell_type": "markdown",
      "metadata": {
        "id": "lh03eWRhOd7e"
      },
      "source": [
        "### 2. What is the null hypothesis, and how does it differ from the alternative hypothesis?\n",
        "\n",
        "The null hypothesis (H0) is the default assumption that there is no effect or difference in the population. The alternative hypothesis (H1) posits that there is a significant effect or difference. Hypothesis testing evaluates sample data to determine if H0 can be rejected in favor of H1."
      ],
      "id": "lh03eWRhOd7e"
    },
    {
      "cell_type": "markdown",
      "metadata": {
        "id": "bXz701CFOd7e"
      },
      "source": [
        "### 3. What is the significance level in hypothesis testing, and why is it important?\n",
        "\n",
        "The significance level (α) is the threshold probability for rejecting the null hypothesis, commonly set at 0.05. It represents the risk of making a Type I error—incorrectly rejecting a true null hypothesis. Setting α balances sensitivity to true effects with control over false positives."
      ],
      "id": "bXz701CFOd7e"
    },
    {
      "cell_type": "markdown",
      "metadata": {
        "id": "_vx2BTP1Od7f"
      },
      "source": [
        "### 4. What does a P-value represent in hypothesis testing?\n",
        "\n",
        "A P-value is the probability of obtaining test results at least as extreme as the observed data, assuming the null hypothesis is true. It quantifies the strength of evidence against H0. A small P-value (below α) suggests the observed data are unlikely under H0."
      ],
      "id": "_vx2BTP1Od7f"
    },
    {
      "cell_type": "markdown",
      "metadata": {
        "id": "pX_oJcG2Od7f"
      },
      "source": [
        "### 5. How do you interpret the P-value in hypothesis testing?\n",
        "\n",
        "If the P-value ≤ α, reject the null hypothesis—evidence suggests a significant effect. If the P-value > α, fail to reject H0—insufficient evidence for H1. This interpretation balances the risk of Type I error (false positive) against the strength of observed evidence."
      ],
      "id": "pX_oJcG2Od7f"
    },
    {
      "cell_type": "markdown",
      "metadata": {
        "id": "U3JULQ6COd7f"
      },
      "source": [
        "### 6. What are Type I and Type II errors in hypothesis testing?\n",
        "\n",
        "Type I error occurs when a true null hypothesis is incorrectly rejected (false positive). Type II error occurs when a false null hypothesis is not rejected (false negative). Reducing one type often increases the other; experimental design balances both by choosing appropriate sample size and α."
      ],
      "id": "U3JULQ6COd7f"
    },
    {
      "cell_type": "markdown",
      "metadata": {
        "id": "Igj2q-hROd7g"
      },
      "source": [
        "### 7. What is the difference between a one-tailed and a two-tailed test in hypothesis testing?\n",
        "\n",
        "A one-tailed test measures an effect in one specified direction (e.g., mean > μ0). A two-tailed test measures deviation in both directions (mean ≠ μ0). One-tailed tests have more power for a specified direction, while two-tailed tests guard against effects in either direction."
      ],
      "id": "Igj2q-hROd7g"
    },
    {
      "cell_type": "markdown",
      "metadata": {
        "id": "TKYSJgXWOd7g"
      },
      "source": [
        "### 8. What is the Z-test, and when is it used in hypothesis testing?\n",
        "\n",
        "The Z-test compares a sample mean to a known population mean when the population variance σ² is known and the sample size is large (n > 30). It uses the standard normal distribution to calculate the test statistic and P-value."
      ],
      "id": "TKYSJgXWOd7g"
    },
    {
      "cell_type": "markdown",
      "metadata": {
        "id": "j7x27L2NOd7g"
      },
      "source": [
        "### 9. How do you calculate the Z-score, and what does it represent in hypothesis testing?\n",
        "\n",
        "Z = (X̄ − μ)/(σ/√n), where X̄ is the sample mean, μ is the population mean, σ is the population standard deviation, and n is the sample size. The Z-score measures how many standard errors the sample mean is from the population mean."
      ],
      "id": "j7x27L2NOd7g"
    },
    {
      "cell_type": "markdown",
      "metadata": {
        "id": "tcmZjuqTOd7g"
      },
      "source": [
        "### 10. What is the T-distribution, and when should it be used instead of the normal distribution?\n",
        "\n",
        "The T-distribution is used when the population standard deviation is unknown and/or the sample size is small (n < 30). It has heavier tails than the normal distribution, accounting for extra uncertainty. As n increases, it converges to the normal distribution."
      ],
      "id": "tcmZjuqTOd7g"
    },
    {
      "cell_type": "markdown",
      "metadata": {
        "id": "bCXjL98jOd7g"
      },
      "source": [
        "### 11. What is the difference between a Z-test and a T-test?\n",
        "\n",
        "A Z-test requires a known population variance and large sample size. A T-test is used when population variance is unknown and/or sample size is small. T-tests use the T-distribution, which adjusts for additional uncertainty in variance estimation."
      ],
      "id": "bCXjL98jOd7g"
    },
    {
      "cell_type": "markdown",
      "metadata": {
        "id": "hSGNezMSOd7g"
      },
      "source": [
        "### 12. What is the T-test, and how is it used in hypothesis testing?\n",
        "\n",
        "A T-test evaluates whether the means of two groups differ significantly. It computes a t-statistic and compares it to critical values from the T-distribution. Variants include the one-sample, independent two-sample, and paired-sample t-test."
      ],
      "id": "hSGNezMSOd7g"
    },
    {
      "cell_type": "markdown",
      "metadata": {
        "id": "6xGLgNKKOd7g"
      },
      "source": [
        "### 13. What is the relationship between Z-test and T-test in hypothesis testing?\n",
        "\n",
        "Both tests compare sample statistics to population parameters. The Z-test uses the normal distribution when σ is known; the T-test uses the T-distribution when σ is unknown. For large samples, T converges to Z, making their results nearly identical."
      ],
      "id": "6xGLgNKKOd7g"
    },
    {
      "cell_type": "markdown",
      "metadata": {
        "id": "nnantqWtOd7g"
      },
      "source": [
        "### 14. What is a confidence interval, and how is it used to interpret statistical results?\n",
        "\n",
        "A confidence interval (CI) is a range of values likely to contain a population parameter with a specified probability (e.g., 95%). It quantifies estimate precision: narrower CIs indicate more precise estimates, wider CIs indicate greater uncertainty."
      ],
      "id": "nnantqWtOd7g"
    },
    {
      "cell_type": "markdown",
      "metadata": {
        "id": "MGY7oE8DOd7h"
      },
      "source": [
        "### 15. What is the margin of error, and how does it affect the confidence interval?\n",
        "\n",
        "The margin of error (ME) is the maximum expected difference between the sample statistic and the true population parameter. CI = estimate ± ME. A larger ME widens the interval (less precision); a smaller ME narrows it (more precision)."
      ],
      "id": "MGY7oE8DOd7h"
    },
    {
      "cell_type": "markdown",
      "metadata": {
        "id": "KnNvg5MEOd7h"
      },
      "source": [
        "### 16. How is Bayes' Theorem used in statistics, and what is its significance?\n",
        "\n",
        "Bayes’ Theorem updates the probability of a hypothesis given new data by combining prior belief and likelihood. It’s foundational to Bayesian statistics, enabling dynamic inference and decision-making in fields like medicine, machine learning, and diagnostics."
      ],
      "id": "KnNvg5MEOd7h"
    },
    {
      "cell_type": "markdown",
      "metadata": {
        "id": "36vSoXDOOd7h"
      },
      "source": [
        "### 17. What is the Chi-square distribution, and when is it used?\n",
        "\n",
        "The Chi-square distribution models the sum of squared standard normal variables. It’s used for tests on categorical data (goodness-of-fit, independence) by comparing observed and expected frequencies."
      ],
      "id": "36vSoXDOOd7h"
    },
    {
      "cell_type": "markdown",
      "metadata": {
        "id": "1NVvcwwZOd7h"
      },
      "source": [
        "### 18. What is the Chi-square goodness of fit test, and how is it applied?\n",
        "\n",
        "The Chi-square goodness of fit test compares observed frequencies to expected frequencies under a hypothesized distribution. Compute χ² = Σ((O−E)²/E). If χ² exceeds a critical value, reject the null hypothesis of fit."
      ],
      "id": "1NVvcwwZOd7h"
    },
    {
      "cell_type": "markdown",
      "metadata": {
        "id": "iMh6-hHxOd7h"
      },
      "source": [
        "### 19. What is the F-distribution, and when is it used in hypothesis testing?\n",
        "\n",
        "The F-distribution is the ratio of two scaled Chi-square variables (each divided by its degrees of freedom). It’s used to compare variances (e.g., in ANOVA) and assess model fit."
      ],
      "id": "iMh6-hHxOd7h"
    },
    {
      "cell_type": "markdown",
      "metadata": {
        "id": "lHoO980WOd7h"
      },
      "source": [
        "### 20. What is an ANOVA test, and what are its assumptions?\n",
        "\n",
        "ANOVA (Analysis of Variance) tests for mean differences among three or more groups. Assumptions: normality, independence, and equal variances. It uses the F-test to compare between-group and within-group variance."
      ],
      "id": "lHoO980WOd7h"
    },
    {
      "cell_type": "markdown",
      "metadata": {
        "id": "PA8ISGV1Od7h"
      },
      "source": [
        "### 21. What are the different types of ANOVA tests?\n",
        "\n",
        "One-way ANOVA compares means across one factor. Two-way ANOVA assesses two factors and their interaction. Repeated measures ANOVA tests the same subjects under different conditions. Each extends ANOVA to more complex designs."
      ],
      "id": "PA8ISGV1Od7h"
    },
    {
      "cell_type": "markdown",
      "metadata": {
        "id": "mEwoYiROOd7h"
      },
      "source": [
        "### 22. What is the F-test, and how does it relate to hypothesis testing?\n",
        "\n",
        "The F-test compares variances of groups by computing the ratio of between-group to within-group variance. A significant F indicates at least one group mean differs, forming the basis of ANOVA."
      ],
      "id": "mEwoYiROOd7h"
    },
    {
      "cell_type": "markdown",
      "metadata": {
        "id": "20Ck4qNqOd7h"
      },
      "source": [
        "### 23. What is the relationship between Z-test and T-test?\n",
        "\n",
        "The Z-test uses a known σ and normal distribution. The T-test uses an estimated σ and the T-distribution for small samples. With large samples, the T distribution approximates normal, making both tests equivalent."
      ],
      "id": "20Ck4qNqOd7h"
    },
    {
      "cell_type": "markdown",
      "source": [
        "#Practical Part-1"
      ],
      "metadata": {
        "id": "IA-5bJfeSGqJ"
      },
      "id": "IA-5bJfeSGqJ"
    },
    {
      "cell_type": "markdown",
      "metadata": {
        "id": "oQQ756ffOd7h"
      },
      "source": [
        "## 24. Write a Python program to generate a random variable and display its value."
      ],
      "id": "oQQ756ffOd7h"
    },
    {
      "cell_type": "code",
      "execution_count": 28,
      "metadata": {
        "colab": {
          "base_uri": "https://localhost:8080/"
        },
        "id": "vTzcLLEBOd7i",
        "outputId": "0e3b48c3-12be-484c-9456-0d7e5e048ae3"
      },
      "outputs": [
        {
          "output_type": "stream",
          "name": "stdout",
          "text": [
            "Random Variable: 0.8441015756821472\n"
          ]
        }
      ],
      "source": [
        "import numpy as np\n",
        "x = np.random.rand()\n",
        "print(f\"Random Variable: {x}\")"
      ],
      "id": "vTzcLLEBOd7i"
    },
    {
      "cell_type": "markdown",
      "metadata": {
        "id": "T8QLNDovOd7i"
      },
      "source": [
        "## 25. Generate a discrete uniform distribution using Python and plot the probability mass function (PMF)."
      ],
      "id": "T8QLNDovOd7i"
    },
    {
      "cell_type": "code",
      "execution_count": 29,
      "metadata": {
        "colab": {
          "base_uri": "https://localhost:8080/",
          "height": 472
        },
        "id": "ShxNFvoDOd7j",
        "outputId": "1c9c74d6-34b8-429a-f5b4-40ab92eb18ad"
      },
      "outputs": [
        {
          "output_type": "display_data",
          "data": {
            "text/plain": [
              "<Figure size 640x480 with 1 Axes>"
            ],
            "image/png": "[encoded data removed]"
          },
          "metadata": {}
        }
      ],
      "source": [
        "import numpy as np\n",
        "import matplotlib.pyplot as plt\n",
        "x = np.arange(1,7)\n",
        "pmf = np.ones_like(x)/len(x)\n",
        "plt.stem(x, pmf, basefmt=' ')\n",
        "plt.xlabel('Value')\n",
        "plt.ylabel('Probability')\n",
        "plt.title('Discrete Uniform PMF')\n",
        "plt.show()"
      ],
      "id": "ShxNFvoDOd7j"
    },
    {
      "cell_type": "markdown",
      "metadata": {
        "id": "hfD027yoOd7j"
      },
      "source": [
        "## 26. Write a Python function to calculate the probability distribution function (PDF) of a Bernoulli distribution."
      ],
      "id": "hfD027yoOd7j"
    },
    {
      "cell_type": "code",
      "execution_count": 30,
      "metadata": {
        "colab": {
          "base_uri": "https://localhost:8080/"
        },
        "id": "ukxzOsGVOd7j",
        "outputId": "a500f6ed-d2de-4357-a7c7-7f947f6b5057"
      },
      "outputs": [
        {
          "output_type": "stream",
          "name": "stdout",
          "text": [
            "0.6 0.4\n"
          ]
        }
      ],
      "source": [
        "def bernoulli_pmf(x, p):\n",
        "    if x not in (0,1): raise ValueError('x must be 0 or 1')\n",
        "    return p if x==1 else 1-p\n",
        "print(bernoulli_pmf(1, 0.6), bernoulli_pmf(0, 0.6))"
      ],
      "id": "ukxzOsGVOd7j"
    },
    {
      "cell_type": "markdown",
      "metadata": {
        "id": "iGXIh1lvOd7j"
      },
      "source": [
        "## 27. Write a Python script to simulate a binomial distribution with n=10 and p=0.5, then plot its histogram."
      ],
      "id": "iGXIh1lvOd7j"
    },
    {
      "cell_type": "code",
      "execution_count": 31,
      "metadata": {
        "colab": {
          "base_uri": "https://localhost:8080/",
          "height": 472
        },
        "id": "q2DDIEhOOd7j",
        "outputId": "12842cad-d5bc-4942-a9c3-ddb29b0219ec"
      },
      "outputs": [
        {
          "output_type": "display_data",
          "data": {
            "text/plain": [
              "<Figure size 640x480 with 1 Axes>"
            ],
            "image/png": "[encoded data removed]"
          },
          "metadata": {}
        }
      ],
      "source": [
        "import numpy as np\n",
        "import matplotlib.pyplot as plt\n",
        "data = np.random.binomial(n=10, p=0.5, size=1000)\n",
        "plt.hist(data, bins=range(12), align='left', rwidth=0.8)\n",
        "plt.xlabel('k')\n",
        "plt.ylabel('Frequency')\n",
        "plt.title('Binomial(n=10, p=0.5)')\n",
        "plt.show()"
      ],
      "id": "q2DDIEhOOd7j"
    },
    {
      "cell_type": "markdown",
      "metadata": {
        "id": "yX_NBE4fOd7j"
      },
      "source": [
        "## 28. Create a Poisson distribution and visualize it using Python."
      ],
      "id": "yX_NBE4fOd7j"
    },
    {
      "cell_type": "code",
      "execution_count": 32,
      "metadata": {
        "colab": {
          "base_uri": "https://localhost:8080/",
          "height": 452
        },
        "id": "OUbpcQxjOd7j",
        "outputId": "0c8b4cdc-03d7-4f21-c997-5884cfc1b1f8"
      },
      "outputs": [
        {
          "output_type": "display_data",
          "data": {
            "text/plain": [
              "<Figure size 640x480 with 1 Axes>"
            ],
            "image/png": "[encoded data removed]"
          },
          "metadata": {}
        }
      ],
      "source": [
        "import numpy as np\n",
        "import matplotlib.pyplot as plt\n",
        "data = np.random.poisson(lam=4, size=1000)\n",
        "plt.hist(data, bins=range(min(data), max(data)+1), align='left')\n",
        "plt.title('Poisson(λ=4)')\n",
        "plt.show()"
      ],
      "id": "OUbpcQxjOd7j"
    },
    {
      "cell_type": "markdown",
      "metadata": {
        "id": "AWFk60BhOd7j"
      },
      "source": [
        "## 29. Write a Python program to calculate and plot the cumulative distribution function (CDF) of a discrete uniform distribution."
      ],
      "id": "AWFk60BhOd7j"
    },
    {
      "cell_type": "code",
      "execution_count": 33,
      "metadata": {
        "colab": {
          "base_uri": "https://localhost:8080/",
          "height": 472
        },
        "id": "hbpewwRbOd7j",
        "outputId": "9cd08e87-ba3d-41e7-95f3-04f05fcd96fb"
      },
      "outputs": [
        {
          "output_type": "display_data",
          "data": {
            "text/plain": [
              "<Figure size 640x480 with 1 Axes>"
            ],
            "image/png": "[encoded data removed]"
          },
          "metadata": {}
        }
      ],
      "source": [
        "import numpy as np\n",
        "import matplotlib.pyplot as plt\n",
        "x = np.arange(1,7)\n",
        "cdf = np.cumsum(np.ones_like(x)/len(x))\n",
        "plt.step(x, cdf, where='mid')\n",
        "plt.xlabel('Value')\n",
        "plt.ylabel('CDF')\n",
        "plt.title('CDF of Discrete Uniform')\n",
        "plt.show()"
      ],
      "id": "hbpewwRbOd7j"
    },
    {
      "cell_type": "markdown",
      "metadata": {
        "id": "bTU0yYjnOd7k"
      },
      "source": [
        "## 30. Generate a continuous uniform distribution using NumPy and visualize it."
      ],
      "id": "bTU0yYjnOd7k"
    },
    {
      "cell_type": "code",
      "execution_count": 34,
      "metadata": {
        "colab": {
          "base_uri": "https://localhost:8080/",
          "height": 452
        },
        "id": "8tAeo40aOd7k",
        "outputId": "bc5e9c09-6bc7-45e4-e7bc-0928a36ec5e3"
      },
      "outputs": [
        {
          "output_type": "display_data",
          "data": {
            "text/plain": [
              "<Figure size 640x480 with 1 Axes>"
            ],
            "image/png": "[encoded data removed]"
          },
          "metadata": {}
        }
      ],
      "source": [
        "import numpy as np\n",
        "import matplotlib.pyplot as plt\n",
        "data = np.random.uniform(low=0, high=1, size=1000)\n",
        "plt.hist(data, bins=30)\n",
        "plt.title('Continuous Uniform [0,1]')\n",
        "plt.show()"
      ],
      "id": "8tAeo40aOd7k"
    },
    {
      "cell_type": "markdown",
      "metadata": {
        "id": "8CFKPJecOd7k"
      },
      "source": [
        "## 31. Simulate data from a normal distribution and plot its histogram."
      ],
      "id": "8CFKPJecOd7k"
    },
    {
      "cell_type": "code",
      "execution_count": 35,
      "metadata": {
        "colab": {
          "base_uri": "https://localhost:8080/",
          "height": 452
        },
        "id": "XhwXv8mcOd7k",
        "outputId": "e4afa562-1e8a-44eb-8d9b-b4453eef4828"
      },
      "outputs": [
        {
          "output_type": "display_data",
          "data": {
            "text/plain": [
              "<Figure size 640x480 with 1 Axes>"
            ],
            "image/png": "[encoded data removed]"
          },
          "metadata": {}
        }
      ],
      "source": [
        "import numpy as np\n",
        "import matplotlib.pyplot as plt\n",
        "data = np.random.normal(loc=0, scale=1, size=1000)\n",
        "plt.hist(data, bins=30)\n",
        "plt.title('Normal(0,1)')\n",
        "plt.show()"
      ],
      "id": "XhwXv8mcOd7k"
    },
    {
      "cell_type": "markdown",
      "metadata": {
        "id": "3klUt1D-Od7o"
      },
      "source": [
        "## 32. Write a Python function to calculate Z-scores from a dataset and plot them."
      ],
      "id": "3klUt1D-Od7o"
    },
    {
      "cell_type": "code",
      "execution_count": 36,
      "metadata": {
        "colab": {
          "base_uri": "https://localhost:8080/",
          "height": 452
        },
        "id": "PuiNH4-WOd7o",
        "outputId": "dcc945d8-44ab-4ea4-8880-df6b25dedb49"
      },
      "outputs": [
        {
          "output_type": "display_data",
          "data": {
            "text/plain": [
              "<Figure size 640x480 with 1 Axes>"
            ],
            "image/png": "[encoded data removed]"
          },
          "metadata": {}
        }
      ],
      "source": [
        "import numpy as np\n",
        "import matplotlib.pyplot as plt\n",
        "def z_scores(arr): return (arr-np.mean(arr))/np.std(arr, ddof=1)\n",
        "data = np.random.normal(size=100)\n",
        "zs = z_scores(data)\n",
        "plt.plot(sorted(zs), 'o-')\n",
        "plt.title('Z-scores')\n",
        "plt.show()"
      ],
      "id": "PuiNH4-WOd7o"
    },
    {
      "cell_type": "markdown",
      "metadata": {
        "id": "HLczZRzDOd7o"
      },
      "source": [
        "## 33. Implement the Central Limit Theorem (CLT) using Python for a non-normal distribution."
      ],
      "id": "HLczZRzDOd7o"
    },
    {
      "cell_type": "code",
      "execution_count": 37,
      "metadata": {
        "colab": {
          "base_uri": "https://localhost:8080/",
          "height": 452
        },
        "id": "pBX7QxZuOd7o",
        "outputId": "935e8ad5-bba2-4a54-dbd5-dd7925fbfe10"
      },
      "outputs": [
        {
          "output_type": "display_data",
          "data": {
            "text/plain": [
              "<Figure size 640x480 with 1 Axes>"
            ],
            "image/png": "[encoded data removed]"
          },
          "metadata": {}
        }
      ],
      "source": [
        "import numpy as np\n",
        "import matplotlib.pyplot as plt\n",
        "pop = np.random.exponential(scale=1, size=100000)\n",
        "means = [np.mean(np.random.choice(pop, size=30)) for _ in range(1000)]\n",
        "plt.hist(means, bins=30)\n",
        "plt.title('Sampling Means Distribution')\n",
        "plt.show()"
      ],
      "id": "pBX7QxZuOd7o"
    },
    {
      "cell_type": "markdown",
      "metadata": {
        "id": "zEXITTvvOd7p"
      },
      "source": [
        "## 34. Simulate multiple samples from a normal distribution and verify the Central Limit Theorem."
      ],
      "id": "zEXITTvvOd7p"
    },
    {
      "cell_type": "code",
      "execution_count": 38,
      "metadata": {
        "colab": {
          "base_uri": "https://localhost:8080/",
          "height": 452
        },
        "id": "Gd5EMWBCOd7p",
        "outputId": "e3d0d4f6-a5c9-4502-e03b-483a6e8a7461"
      },
      "outputs": [
        {
          "output_type": "display_data",
          "data": {
            "text/plain": [
              "<Figure size 640x480 with 1 Axes>"
            ],
            "image/png": "[encoded data removed]"
          },
          "metadata": {}
        }
      ],
      "source": [
        "import numpy as np\n",
        "import matplotlib.pyplot as plt\n",
        "means = [np.mean(np.random.normal(loc=5, scale=2, size=50)) for _ in range(1000)]\n",
        "plt.hist(means, bins=30)\n",
        "plt.title('CLT Verification')\n",
        "plt.show()"
      ],
      "id": "Gd5EMWBCOd7p"
    },
    {
      "cell_type": "markdown",
      "metadata": {
        "id": "UTNZj3PIOd7p"
      },
      "source": [
        "## 35. Write a Python function to calculate and plot the standard normal distribution (mean = 0, std = 1)."
      ],
      "id": "UTNZj3PIOd7p"
    },
    {
      "cell_type": "code",
      "execution_count": 39,
      "metadata": {
        "colab": {
          "base_uri": "https://localhost:8080/",
          "height": 452
        },
        "id": "z1OB-DZGOd7p",
        "outputId": "0cbb6ea5-5073-483c-9044-afa6ec28b7e3"
      },
      "outputs": [
        {
          "output_type": "display_data",
          "data": {
            "text/plain": [
              "<Figure size 640x480 with 1 Axes>"
            ],
            "image/png": "[encoded data removed]"
          },
          "metadata": {}
        }
      ],
      "source": [
        "import numpy as np\n",
        "import matplotlib.pyplot as plt\n",
        "def std_norm(x): return 1/np.sqrt(2*np.pi)*np.exp(-x**2/2)\n",
        "x = np.linspace(-4,4,200)\n",
        "plt.plot(x, std_norm(x))\n",
        "plt.title('Standard Normal PDF')\n",
        "plt.show()"
      ],
      "id": "z1OB-DZGOd7p"
    },
    {
      "cell_type": "markdown",
      "metadata": {
        "id": "YWozOpp1Od7p"
      },
      "source": [
        "## 36. Generate random variables and calculate their corresponding probabilities using the binomial distribution."
      ],
      "id": "YWozOpp1Od7p"
    },
    {
      "cell_type": "code",
      "execution_count": 40,
      "metadata": {
        "colab": {
          "base_uri": "https://localhost:8080/"
        },
        "id": "yPdK04gNOd7p",
        "outputId": "d7f1670e-58d3-4d8e-bfff-1f604151c45b"
      },
      "outputs": [
        {
          "output_type": "stream",
          "name": "stdout",
          "text": [
            "0 0.0009765624999999989\n",
            "1 0.009765625000000002\n",
            "2 0.04394531250000004\n",
            "3 0.1171875\n",
            "4 0.2050781249999999\n",
            "5 0.24609375000000003\n",
            "6 0.2050781249999999\n",
            "7 0.11718749999999999\n",
            "8 0.04394531250000004\n",
            "9 0.009765625000000002\n",
            "10 0.0009765625\n"
          ]
        }
      ],
      "source": [
        "import scipy.stats as st\n",
        "rv = st.binom(n=10, p=0.5)\n",
        "for k in range(11): print(k, rv.pmf(k))"
      ],
      "id": "yPdK04gNOd7p"
    },
    {
      "cell_type": "markdown",
      "metadata": {
        "id": "r4eVyjufOd7p"
      },
      "source": [
        "## 37. Write a Python program to calculate the Z-score for a given data point and compare it to a standard normal distribution."
      ],
      "id": "r4eVyjufOd7p"
    },
    {
      "cell_type": "code",
      "execution_count": 41,
      "metadata": {
        "colab": {
          "base_uri": "https://localhost:8080/"
        },
        "id": "DIFZlJyVOd7p",
        "outputId": "6828befa-1205-4605-d60d-dfbca9a7e6dd"
      },
      "outputs": [
        {
          "output_type": "stream",
          "name": "stdout",
          "text": [
            "Z: 0.5 P-value: -0.38292492254802624\n"
          ]
        }
      ],
      "source": [
        "import scipy.stats as st\n",
        "x, mu, sigma = 75, 70, 10\n",
        "z = (x-mu)/sigma\n",
        "print('Z:', z, 'P-value:', 1-st.norm.cdf(abs(z))*2)"
      ],
      "id": "DIFZlJyVOd7p"
    },
    {
      "cell_type": "markdown",
      "metadata": {
        "id": "Y_WG5_ZrOd7p"
      },
      "source": [
        "## 38. Implement hypothesis testing using Z-statistics for a sample dataset."
      ],
      "id": "Y_WG5_ZrOd7p"
    },
    {
      "cell_type": "code",
      "execution_count": 42,
      "metadata": {
        "colab": {
          "base_uri": "https://localhost:8080/"
        },
        "id": "i1T7s57eOd7p",
        "outputId": "212c3e8a-b701-40e8-c606-62e8177a621c"
      },
      "outputs": [
        {
          "output_type": "stream",
          "name": "stdout",
          "text": [
            "0.7711568334719247 0.44061397689711\n"
          ]
        }
      ],
      "source": [
        "import numpy as np\n",
        "import scipy.stats as st\n",
        "data = np.random.normal(loc=5, scale=2, size=50)\n",
        "z_stat = (np.mean(data)-5)/(2/np.sqrt(50))\n",
        "p = 2*(1-st.norm.cdf(abs(z_stat)))\n",
        "print(z_stat, p)"
      ],
      "id": "i1T7s57eOd7p"
    },
    {
      "cell_type": "markdown",
      "metadata": {
        "id": "5q1kyFjGOd7q"
      },
      "source": [
        "## 39. Create a confidence interval for a dataset using Python and interpret the result."
      ],
      "id": "5q1kyFjGOd7q"
    },
    {
      "cell_type": "code",
      "execution_count": 43,
      "metadata": {
        "colab": {
          "base_uri": "https://localhost:8080/"
        },
        "id": "1VoO0DMnOd7q",
        "outputId": "9c56eb5e-e009-49e1-ee0e-6defaa90d3e3"
      },
      "outputs": [
        {
          "output_type": "stream",
          "name": "stdout",
          "text": [
            "95% CI: (np.float64(-0.23479010794699448), np.float64(0.16581473437958785))\n"
          ]
        }
      ],
      "source": [
        "import numpy as np\n",
        "import scipy.stats as st\n",
        "data = np.random.normal(size=100)\n",
        "ci = st.norm.interval(0.95, loc=np.mean(data), scale=np.std(data, ddof=1)/np.sqrt(len(data)))\n",
        "print('95% CI:', ci)"
      ],
      "id": "1VoO0DMnOd7q"
    },
    {
      "cell_type": "markdown",
      "metadata": {
        "id": "KmdgB7feOd7q"
      },
      "source": [
        "## 40. Generate data from a normal distribution, then calculate and interpret the confidence interval for its mean."
      ],
      "id": "KmdgB7feOd7q"
    },
    {
      "cell_type": "code",
      "execution_count": 44,
      "metadata": {
        "colab": {
          "base_uri": "https://localhost:8080/"
        },
        "id": "uAkxZRtAOd7q",
        "outputId": "55f847cb-0faa-437d-b5ae-6fb6e8bddd24"
      },
      "outputs": [
        {
          "output_type": "stream",
          "name": "stdout",
          "text": [
            "95% t-CI: (np.float64(8.995220464545413), np.float64(10.73308786228055))\n"
          ]
        }
      ],
      "source": [
        "import numpy as np, scipy.stats as st\n",
        "data = np.random.normal(loc=10, scale=3, size=50)\n",
        "ci = st.t.interval(0.95, df=49, loc=np.mean(data), scale=np.std(data, ddof=1)/np.sqrt(50))\n",
        "print('95% t-CI:', ci)"
      ],
      "id": "uAkxZRtAOd7q"
    },
    {
      "cell_type": "markdown",
      "metadata": {
        "id": "x8SZ9rbiOd7q"
      },
      "source": [
        "## 41. Write a Python script to calculate and visualize the probability density function (PDF) of a normal distribution."
      ],
      "id": "x8SZ9rbiOd7q"
    },
    {
      "cell_type": "code",
      "execution_count": 45,
      "metadata": {
        "colab": {
          "base_uri": "https://localhost:8080/",
          "height": 452
        },
        "id": "VHdKSfq7Od7q",
        "outputId": "28e9656e-c9de-4f9b-a367-489aeb8a8546"
      },
      "outputs": [
        {
          "output_type": "display_data",
          "data": {
            "text/plain": [
              "<Figure size 640x480 with 1 Axes>"
            ],
            "image/png": "[encoded data removed]"
          },
          "metadata": {}
        }
      ],
      "source": [
        "import numpy as np, matplotlib.pyplot as plt\n",
        "import scipy.stats as st\n",
        "x = np.linspace(-4,4,200)\n",
        "plt.plot(x, st.norm.pdf(x,0,1))\n",
        "plt.title('Normal PDF')\n",
        "plt.show()"
      ],
      "id": "VHdKSfq7Od7q"
    },
    {
      "cell_type": "markdown",
      "metadata": {
        "id": "ygu1s3feOd7q"
      },
      "source": [
        "## 42. Use Python to calculate and interpret the cumulative distribution function (CDF) of a Poisson distribution."
      ],
      "id": "ygu1s3feOd7q"
    },
    {
      "cell_type": "code",
      "execution_count": 46,
      "metadata": {
        "colab": {
          "base_uri": "https://localhost:8080/"
        },
        "id": "nqgpuy2cOd7r",
        "outputId": "dad5cd60-7a4b-4816-b93d-f933a53f3aab"
      },
      "outputs": [
        {
          "output_type": "stream",
          "name": "stdout",
          "text": [
            "0 0.04978706836786395\n",
            "1 0.1991482734714558\n",
            "2 0.42319008112684364\n",
            "3 0.6472318887822313\n",
            "4 0.8152632445237722\n",
            "5 0.9160820579686966\n",
            "6 0.9664914646911588\n",
            "7 0.9880954961436426\n"
          ]
        }
      ],
      "source": [
        "import scipy.stats as st\n",
        "rv = st.poisson(mu=3)\n",
        "for k in range(8): print(k, rv.cdf(k))"
      ],
      "id": "nqgpuy2cOd7r"
    },
    {
      "cell_type": "markdown",
      "metadata": {
        "id": "E1tFxKiWOd7r"
      },
      "source": [
        "## 43. Simulate a random variable using a continuous uniform distribution and calculate its expected value."
      ],
      "id": "E1tFxKiWOd7r"
    },
    {
      "cell_type": "code",
      "execution_count": 47,
      "metadata": {
        "colab": {
          "base_uri": "https://localhost:8080/"
        },
        "id": "ewdgy8nFOd7r",
        "outputId": "fb4477eb-176e-4e87-cc7f-42ff5acacde5"
      },
      "outputs": [
        {
          "output_type": "stream",
          "name": "stdout",
          "text": [
            "Mean ≈ 2.483329205871982\n"
          ]
        }
      ],
      "source": [
        "import numpy as np\n",
        "data = np.random.uniform(0,5,10000)\n",
        "print('Mean ≈', np.mean(data))"
      ],
      "id": "ewdgy8nFOd7r"
    },
    {
      "cell_type": "markdown",
      "metadata": {
        "id": "r7D1q3YcOd7r"
      },
      "source": [
        "## 44. Write a Python program to compare the standard deviations of two datasets and visualize the difference."
      ],
      "id": "r7D1q3YcOd7r"
    },
    {
      "cell_type": "code",
      "execution_count": 48,
      "metadata": {
        "colab": {
          "base_uri": "https://localhost:8080/",
          "height": 502
        },
        "id": "sUWBj1ugOd7r",
        "outputId": "376b5089-ef15-49c9-bdc8-fabc83debc4f"
      },
      "outputs": [
        {
          "output_type": "stream",
          "name": "stdout",
          "text": [
            "1.026507474745253 2.0352648557793778\n"
          ]
        },
        {
          "output_type": "stream",
          "name": "stderr",
          "text": [
            "<ipython-input-48-c5603763d9e8>:5: MatplotlibDeprecationWarning: The 'labels' parameter of boxplot() has been renamed 'tick_labels' since Matplotlib 3.9; support for the old name will be dropped in 3.11.\n",
            "  plt.boxplot([a,b], labels=['σ=1','σ=2'])\n"
          ]
        },
        {
          "output_type": "display_data",
          "data": {
            "text/plain": [
              "<Figure size 640x480 with 1 Axes>"
            ],
            "image/png": "[encoded data removed]"
          },
          "metadata": {}
        }
      ],
      "source": [
        "import numpy as np, matplotlib.pyplot as plt\n",
        "a = np.random.normal(0,1,1000)\n",
        "b = np.random.normal(0,2,1000)\n",
        "print(np.std(a), np.std(b))\n",
        "plt.boxplot([a,b], labels=['σ=1','σ=2'])\n",
        "plt.show()"
      ],
      "id": "sUWBj1ugOd7r"
    },
    {
      "cell_type": "markdown",
      "metadata": {
        "id": "hNJ8VagNOd7r"
      },
      "source": [
        "## 45. Calculate the range and interquartile range (IQR) of a dataset generated from a normal distribution."
      ],
      "id": "hNJ8VagNOd7r"
    },
    {
      "cell_type": "code",
      "execution_count": 49,
      "metadata": {
        "colab": {
          "base_uri": "https://localhost:8080/"
        },
        "id": "myn6-pBaOd7r",
        "outputId": "879729fe-f8d3-497a-96af-f4cb80400f5b"
      },
      "outputs": [
        {
          "output_type": "stream",
          "name": "stdout",
          "text": [
            "Range: 5.722893796812808 IQR: 1.3055330987852067\n"
          ]
        }
      ],
      "source": [
        "import numpy as np\n",
        "data = np.random.normal(size=100)\n",
        "iqr = np.percentile(data,75)-np.percentile(data,25)\n",
        "print('Range:', data.max()-data.min(), 'IQR:', iqr)"
      ],
      "id": "myn6-pBaOd7r"
    },
    {
      "cell_type": "markdown",
      "metadata": {
        "id": "viySu_N4Od7r"
      },
      "source": [
        "## 46. Implement Z-score normalization on a dataset and visualize its transformation."
      ],
      "id": "viySu_N4Od7r"
    },
    {
      "cell_type": "code",
      "execution_count": 50,
      "metadata": {
        "colab": {
          "base_uri": "https://localhost:8080/",
          "height": 430
        },
        "id": "psXL7j9yOd7s",
        "outputId": "67156188-d569-47cc-935a-13a2c7f27143"
      },
      "outputs": [
        {
          "output_type": "display_data",
          "data": {
            "text/plain": [
              "<Figure size 640x480 with 1 Axes>"
            ],
            "image/png": "[encoded data removed]"
          },
          "metadata": {}
        }
      ],
      "source": [
        "import numpy as np, matplotlib.pyplot as plt\n",
        "data = np.random.normal(5,2,100)\n",
        "normed = (data-np.mean(data))/np.std(data,ddof=1)\n",
        "plt.hist(normed, bins=20)\n",
        "plt.show()"
      ],
      "id": "psXL7j9yOd7s"
    },
    {
      "cell_type": "markdown",
      "metadata": {
        "id": "iL1v5oAUOd7s"
      },
      "source": [
        "## 47. Write a Python function to calculate the skewness and kurtosis of a dataset generated from a normal distribution."
      ],
      "id": "iL1v5oAUOd7s"
    },
    {
      "cell_type": "code",
      "execution_count": 51,
      "metadata": {
        "colab": {
          "base_uri": "https://localhost:8080/"
        },
        "id": "oJ8-UK9BOd7s",
        "outputId": "24a829ec-acd6-4a5a-ca9e-25bbed0779e9"
      },
      "outputs": [
        {
          "output_type": "stream",
          "name": "stdout",
          "text": [
            "Skewness: 0.030282214844803024 Kurtosis: -0.14264977955770064\n"
          ]
        }
      ],
      "source": [
        "import scipy.stats as st, numpy as np\n",
        "data = np.random.normal(size=1000)\n",
        "print('Skewness:', st.skew(data), 'Kurtosis:', st.kurtosis(data))"
      ],
      "id": "oJ8-UK9BOd7s"
    },
    {
      "cell_type": "markdown",
      "source": [
        "#Practical Part-2"
      ],
      "metadata": {
        "id": "r2qKWHGdScUL"
      },
      "id": "r2qKWHGdScUL"
    },
    {
      "cell_type": "markdown",
      "metadata": {
        "id": "CXLcAuyIOd7s"
      },
      "source": [
        "## 48. Write a Python program to perform a Z-test for comparing a sample mean to a known population mean and interpret the results."
      ],
      "id": "CXLcAuyIOd7s"
    },
    {
      "cell_type": "code",
      "execution_count": 52,
      "metadata": {
        "colab": {
          "base_uri": "https://localhost:8080/"
        },
        "id": "L-hNtGMqOd7s",
        "outputId": "3d5b53b5-e8e8-4bf1-a2a9-55afcb9a7acd"
      },
      "outputs": [
        {
          "output_type": "stream",
          "name": "stdout",
          "text": [
            "2.2887028995471583 0.02209662044486982\n"
          ]
        }
      ],
      "source": [
        "import numpy as np, scipy.stats as st\n",
        "data = np.random.normal(100,15,50)\n",
        "z = (np.mean(data)-100)/(15/np.sqrt(50))\n",
        "p = 2*(1-st.norm.cdf(abs(z)))\n",
        "print(z,p)"
      ],
      "id": "L-hNtGMqOd7s"
    },
    {
      "cell_type": "markdown",
      "metadata": {
        "id": "32hLm1HoOd7s"
      },
      "source": [
        "## 49. Simulate random data to perform hypothesis testing and calculate the corresponding P-value using Python."
      ],
      "id": "32hLm1HoOd7s"
    },
    {
      "cell_type": "code",
      "execution_count": 53,
      "metadata": {
        "colab": {
          "base_uri": "https://localhost:8080/"
        },
        "id": "wnLdeV9-Od7s",
        "outputId": "955bad59-6c3b-4c54-af61-b355b0a9c941"
      },
      "outputs": [
        {
          "output_type": "stream",
          "name": "stdout",
          "text": [
            "t: 0.13395186990056912 p: 0.8939043575496033\n"
          ]
        }
      ],
      "source": [
        "import numpy as np, scipy.stats as st\n",
        "a = np.random.normal(5,1,30)\n",
        "b = np.random.normal(5.5,1,30)\n",
        "t,p = st.ttest_ind(a,b)\n",
        "print('t:',t,'p:',p)"
      ],
      "id": "wnLdeV9-Od7s"
    },
    {
      "cell_type": "markdown",
      "metadata": {
        "id": "10SI1NttOd7s"
      },
      "source": [
        "## 50. Implement a one-sample Z-test using Python to compare the sample mean with the population mean."
      ],
      "id": "10SI1NttOd7s"
    },
    {
      "cell_type": "code",
      "execution_count": 54,
      "metadata": {
        "colab": {
          "base_uri": "https://localhost:8080/"
        },
        "id": "BIS-ZHRwOd7s",
        "outputId": "48d46d9d-65c8-495a-dd88-a1bcdd8becfb"
      },
      "outputs": [
        {
          "output_type": "stream",
          "name": "stdout",
          "text": [
            "0.9745998413848658 0.32975879234070526\n"
          ]
        }
      ],
      "source": [
        "import numpy as np, scipy.stats as st\n",
        "data = np.random.normal(0,1,100)\n",
        "z = (np.mean(data)-0)/(1/np.sqrt(100))\n",
        "print(z,2*(1-st.norm.cdf(abs(z))))"
      ],
      "id": "BIS-ZHRwOd7s"
    },
    {
      "cell_type": "markdown",
      "metadata": {
        "id": "Zt3w-iRiOd7s"
      },
      "source": [
        "## 51. Perform a two-tailed Z-test using Python and visualize the decision region on a plot."
      ],
      "id": "Zt3w-iRiOd7s"
    },
    {
      "cell_type": "code",
      "execution_count": 55,
      "metadata": {
        "colab": {
          "base_uri": "https://localhost:8080/",
          "height": 430
        },
        "id": "R5-eNu2gOd7t",
        "outputId": "2c8c64c0-13dd-4e9e-fab1-98a6e28cbda9"
      },
      "outputs": [
        {
          "output_type": "display_data",
          "data": {
            "text/plain": [
              "<Figure size 640x480 with 1 Axes>"
            ],
            "image/png": "[encoded data removed]"
          },
          "metadata": {}
        }
      ],
      "source": [
        "import numpy as np, matplotlib.pyplot as plt, scipy.stats as st\n",
        "data = np.random.normal(5,2,50)\n",
        "z = (np.mean(data)-5)/(2/np.sqrt(50))\n",
        "x = np.linspace(-4,4,200)\n",
        "plt.plot(x,st.norm.pdf(x))\n",
        "plt.fill_between(x,0,st.norm.pdf(x), where=(x<=-1.96)|(x>=1.96))\n",
        "plt.show()"
      ],
      "id": "R5-eNu2gOd7t"
    },
    {
      "cell_type": "markdown",
      "metadata": {
        "id": "V6oOaF8wOd7t"
      },
      "source": [
        "## 52. Create a Python function that calculates and visualizes Type I and Type II errors during hypothesis testing."
      ],
      "id": "V6oOaF8wOd7t"
    },
    {
      "cell_type": "code",
      "execution_count": 56,
      "metadata": {
        "colab": {
          "base_uri": "https://localhost:8080/",
          "height": 430
        },
        "id": "vqtkn7DDOd7t",
        "outputId": "ef52c00e-41af-4ceb-9ff1-aeb6e5a3037c"
      },
      "outputs": [
        {
          "output_type": "display_data",
          "data": {
            "text/plain": [
              "<Figure size 640x480 with 1 Axes>"
            ],
            "image/png": "[encoded data removed]"
          },
          "metadata": {}
        }
      ],
      "source": [
        "import numpy as np, matplotlib.pyplot as plt, scipy.stats as st\n",
        "alpha=0.05;mu0=0;d=0.5;zcrit=st.norm.ppf(1-alpha)\n",
        "x=np.linspace(-3,5,200)\n",
        "plt.plot(x,st.norm.pdf(x))\n",
        "plt.plot(x,st.norm.pdf(x,loc=d))\n",
        "plt.axvline(zcrit);plt.show()"
      ],
      "id": "vqtkn7DDOd7t"
    },
    {
      "cell_type": "markdown",
      "metadata": {
        "id": "CmnQ1qj5Od7t"
      },
      "source": [
        "## 53. Write a Python program to perform an independent T-test and interpret the results."
      ],
      "id": "CmnQ1qj5Od7t"
    },
    {
      "cell_type": "code",
      "execution_count": 57,
      "metadata": {
        "colab": {
          "base_uri": "https://localhost:8080/"
        },
        "id": "u7gTU2M1Od7t",
        "outputId": "3cded0e4-c0bd-4a24-c8b1-e3d3ec565554"
      },
      "outputs": [
        {
          "output_type": "stream",
          "name": "stdout",
          "text": [
            "-2.459506647996888 0.016915772194352013\n"
          ]
        }
      ],
      "source": [
        "import numpy as np, scipy.stats as st\n",
        "a = np.random.normal(0,1,30)\n",
        "b = np.random.normal(0.5,1,30)\n",
        "t,p=st.ttest_ind(a,b)\n",
        "print(t,p)"
      ],
      "id": "u7gTU2M1Od7t"
    },
    {
      "cell_type": "markdown",
      "metadata": {
        "id": "aP5EildrOd7t"
      },
      "source": [
        "## 54. Perform a paired sample T-test using Python and visualize the comparison results."
      ],
      "id": "aP5EildrOd7t"
    },
    {
      "cell_type": "code",
      "execution_count": 58,
      "metadata": {
        "colab": {
          "base_uri": "https://localhost:8080/",
          "height": 502
        },
        "id": "Lg0Mn8zDOd7u",
        "outputId": "d3048176-84d0-45f3-b946-aae59264591d"
      },
      "outputs": [
        {
          "output_type": "stream",
          "name": "stderr",
          "text": [
            "<ipython-input-58-b49e7e097c3e>:5: MatplotlibDeprecationWarning: The 'labels' parameter of boxplot() has been renamed 'tick_labels' since Matplotlib 3.9; support for the old name will be dropped in 3.11.\n",
            "  plt.boxplot([before,after],labels=['Before','After']);plt.show()\n"
          ]
        },
        {
          "output_type": "display_data",
          "data": {
            "text/plain": [
              "<Figure size 640x480 with 1 Axes>"
            ],
            "image/png": "[encoded data removed]"
          },
          "metadata": {}
        },
        {
          "output_type": "stream",
          "name": "stdout",
          "text": [
            "1.5578139977044554 0.13012477826156482\n"
          ]
        }
      ],
      "source": [
        "import numpy as np, scipy.stats as st, matplotlib.pyplot as plt\n",
        "before=np.random.normal(10,2,30)\n",
        "after=before+np.random.normal(0,1,30)\n",
        "t,p=st.ttest_rel(before,after)\n",
        "plt.boxplot([before,after],labels=['Before','After']);plt.show()\n",
        "print(t,p)"
      ],
      "id": "Lg0Mn8zDOd7u"
    },
    {
      "cell_type": "markdown",
      "metadata": {
        "id": "a7SubmrcOd7u"
      },
      "source": [
        "## 55. Simulate data and perform both Z-test and T-test, then compare the results using Python."
      ],
      "id": "a7SubmrcOd7u"
    },
    {
      "cell_type": "code",
      "execution_count": 59,
      "metadata": {
        "colab": {
          "base_uri": "https://localhost:8080/"
        },
        "id": "rujsrR69Od7u",
        "outputId": "b1f8cec9-d5dd-496d-9f61-073c4ee3ab90"
      },
      "outputs": [
        {
          "output_type": "stream",
          "name": "stdout",
          "text": [
            "0.726273745366132 0.46767097108543565  |  0.7333320906022146 0.4668500511265994\n"
          ]
        }
      ],
      "source": [
        "import numpy as np, scipy.stats as st\n",
        "data=np.random.normal(5,2,50)\n",
        "z=(np.mean(data)-5)/(2/np.sqrt(50))\n",
        "t,p_t=st.ttest_1samp(data,5)\n",
        "p_z=2*(1-st.norm.cdf(abs(z)))\n",
        "print(z,p_z,' | ',t,p_t)"
      ],
      "id": "rujsrR69Od7u"
    },
    {
      "cell_type": "markdown",
      "metadata": {
        "id": "AJbu2_BhOd7u"
      },
      "source": [
        "## 56. Write a Python function to calculate the confidence interval for a sample mean and explain its significance."
      ],
      "id": "AJbu2_BhOd7u"
    },
    {
      "cell_type": "code",
      "execution_count": 60,
      "metadata": {
        "colab": {
          "base_uri": "https://localhost:8080/"
        },
        "id": "mrfYExjAOd7u",
        "outputId": "e4611288-bda3-43c6-f594-eb8f87dfada7"
      },
      "outputs": [
        {
          "output_type": "stream",
          "name": "stdout",
          "text": [
            "(np.float64(-0.3011666090203873), np.float64(0.07604877159222041))\n"
          ]
        }
      ],
      "source": [
        "import scipy.stats as st, numpy as np\n",
        "def ci_mean(data,alpha=0.05):\n",
        "    m=np.mean(data);s=np.std(data,ddof=1)/np.sqrt(len(data))\n",
        "    return st.t.interval(1-alpha,len(data)-1,m,s)\n",
        "print(ci_mean(np.random.normal(size=100)))"
      ],
      "id": "mrfYExjAOd7u"
    },
    {
      "cell_type": "markdown",
      "metadata": {
        "id": "1R0pdB51Od7u"
      },
      "source": [
        "## 57. Write a Python program to calculate the margin of error for a given confidence level using sample data."
      ],
      "id": "1R0pdB51Od7u"
    },
    {
      "cell_type": "code",
      "execution_count": 61,
      "metadata": {
        "colab": {
          "base_uri": "https://localhost:8080/"
        },
        "id": "vSgK46ArOd7u",
        "outputId": "297184fa-4b48-4bff-f6f6-88ce0cacd3cf"
      },
      "outputs": [
        {
          "output_type": "stream",
          "name": "stdout",
          "text": [
            "ME: 0.19891947805607385\n"
          ]
        }
      ],
      "source": [
        "import scipy.stats as st, numpy as np\n",
        "data=np.random.normal(size=100)\n",
        "se=np.std(data,ddof=1)/np.sqrt(len(data))\n",
        "me=st.norm.ppf(0.975)*se\n",
        "print('ME:',me)"
      ],
      "id": "vSgK46ArOd7u"
    },
    {
      "cell_type": "markdown",
      "metadata": {
        "id": "aCYMKC5uOd7u"
      },
      "source": [
        "## 58. Implement a Bayesian inference method using Bayes' Theorem in Python and explain the process."
      ],
      "id": "aCYMKC5uOd7u"
    },
    {
      "cell_type": "code",
      "execution_count": 62,
      "metadata": {
        "colab": {
          "base_uri": "https://localhost:8080/"
        },
        "id": "mr0PCjwXOd7u",
        "outputId": "7ad91c06-b4c9-49e0-9c0f-184c15fd9fb0"
      },
      "outputs": [
        {
          "output_type": "stream",
          "name": "stdout",
          "text": [
            "0.08333333333333333\n"
          ]
        }
      ],
      "source": [
        "import numpy as np\n",
        "def bayes(prior,likelihood,evidence):\n",
        "    return prior*likelihood/evidence\n",
        "# Example: P(Disease|+) = ...\n",
        "print(bayes(0.01,0.9,0.01*0.9+0.99*0.1))"
      ],
      "id": "mr0PCjwXOd7u"
    },
    {
      "cell_type": "markdown",
      "metadata": {
        "id": "x00dqjxhOd7v"
      },
      "source": [
        "## 59. Perform a Chi-square test for independence between two categorical variables in Python."
      ],
      "id": "x00dqjxhOd7v"
    },
    {
      "cell_type": "code",
      "execution_count": 63,
      "metadata": {
        "colab": {
          "base_uri": "https://localhost:8080/"
        },
        "id": "oxLdwgAaOd7v",
        "outputId": "e6e932dc-13d0-4819-fea2-785b49ccbcb1"
      },
      "outputs": [
        {
          "output_type": "stream",
          "name": "stdout",
          "text": [
            "Chi2ContingencyResult(statistic=np.float64(0.0), pvalue=np.float64(1.0), dof=1, expected_freq=array([[1., 1.],\n",
            "       [1., 1.]]))\n"
          ]
        }
      ],
      "source": [
        "import pandas as pd, scipy.stats as st\n",
        "df=pd.DataFrame({'A':['x','y','x','y'],'B':['u','u','v','v']})\n",
        "ct=pd.crosstab(df.A,df.B)\n",
        "print(st.chi2_contingency(ct))"
      ],
      "id": "oxLdwgAaOd7v"
    },
    {
      "cell_type": "markdown",
      "metadata": {
        "id": "ztPBKAFSOd7v"
      },
      "source": [
        "## 60. Write a Python program to calculate the expected frequencies for a Chi-square test based on observed data."
      ],
      "id": "ztPBKAFSOd7v"
    },
    {
      "cell_type": "code",
      "execution_count": 64,
      "metadata": {
        "colab": {
          "base_uri": "https://localhost:8080/"
        },
        "id": "FPHLKRipOd7v",
        "outputId": "1c2a964d-f8be-4254-c057-29bd9a27a1af"
      },
      "outputs": [
        {
          "output_type": "stream",
          "name": "stdout",
          "text": [
            "[[12. 18.]\n",
            " [28. 42.]]\n"
          ]
        }
      ],
      "source": [
        "import numpy as np\n",
        "obs=np.array([[10,20],[30,40]])\n",
        "row=obs.sum(axis=1)[:,None];col=obs.sum(axis=0)\n",
        "exp=row*col/obs.sum()\n",
        "print(exp)"
      ],
      "id": "FPHLKRipOd7v"
    },
    {
      "cell_type": "markdown",
      "metadata": {
        "id": "m3Az7JkAOd7v"
      },
      "source": [
        "## 61. Perform a goodness-of-fit test using Python to compare the observed data to an expected distribution."
      ],
      "id": "m3Az7JkAOd7v"
    },
    {
      "cell_type": "code",
      "execution_count": 65,
      "metadata": {
        "colab": {
          "base_uri": "https://localhost:8080/"
        },
        "id": "wHKr1y9iOd7v",
        "outputId": "97f37d37-fa34-4462-bd35-f3c4a00bda22"
      },
      "outputs": [
        {
          "output_type": "stream",
          "name": "stdout",
          "text": [
            "Power_divergenceResult(statistic=np.float64(5.0), pvalue=np.float64(0.0820849986238988))\n"
          ]
        }
      ],
      "source": [
        "import scipy.stats as st\n",
        "obs=[50,30,20]\n",
        "exp=[40,40,20]\n",
        "print(st.chisquare(obs,exp))"
      ],
      "id": "wHKr1y9iOd7v"
    }
  ],
  "metadata": {
    "kernelspec": {
      "display_name": "Python 3",
      "language": "python",
      "name": "python3"
    },
    "language_info": {
      "name": "python",
      "version": ""
    },
    "colab": {
      "provenance": []
    }
  },
  "nbformat": 4,
  "nbformat_minor": 5
}